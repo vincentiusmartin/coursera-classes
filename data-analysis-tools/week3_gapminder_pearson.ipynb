{
 "cells": [
  {
   "cell_type": "markdown",
   "id": "civil-place",
   "metadata": {},
   "source": [
    "**Used data**: GapMinder\n",
    "\n",
    "**Description**: one year data of numerous country-level indicators of health, wealth and development.\n",
    "\n",
    "**Question**: Does income correlate with life expectancy?\n",
    "\n",
    "**Variables**:\n",
    "1. Explanatory variable: Income per person\n",
    "2. Response variable: life expectancy"
   ]
  },
  {
   "cell_type": "code",
   "execution_count": 1,
   "id": "spare-permit",
   "metadata": {},
   "outputs": [],
   "source": [
    "import pandas as pd\n",
    "import scipy\n",
    "import seaborn\n",
    "import matplotlib.pyplot as plt\n",
    "from decimal import Decimal"
   ]
  },
  {
   "cell_type": "code",
   "execution_count": 2,
   "id": "unlimited-wilson",
   "metadata": {},
   "outputs": [],
   "source": [
    "# read the data\n",
    "df = pd.read_csv(\"../gapminder.csv\", low_memory=False)"
   ]
  },
  {
   "cell_type": "code",
   "execution_count": 3,
   "id": "ongoing-weather",
   "metadata": {},
   "outputs": [
    {
     "data": {
      "text/html": [
       "<div>\n",
       "<style scoped>\n",
       "    .dataframe tbody tr th:only-of-type {\n",
       "        vertical-align: middle;\n",
       "    }\n",
       "\n",
       "    .dataframe tbody tr th {\n",
       "        vertical-align: top;\n",
       "    }\n",
       "\n",
       "    .dataframe thead th {\n",
       "        text-align: right;\n",
       "    }\n",
       "</style>\n",
       "<table border=\"1\" class=\"dataframe\">\n",
       "  <thead>\n",
       "    <tr style=\"text-align: right;\">\n",
       "      <th></th>\n",
       "      <th>incomeperperson</th>\n",
       "      <th>lifeexpectancy</th>\n",
       "    </tr>\n",
       "  </thead>\n",
       "  <tbody>\n",
       "    <tr>\n",
       "      <th>1</th>\n",
       "      <td>1914.996551</td>\n",
       "      <td>76.918</td>\n",
       "    </tr>\n",
       "    <tr>\n",
       "      <th>2</th>\n",
       "      <td>2231.993335</td>\n",
       "      <td>73.131</td>\n",
       "    </tr>\n",
       "    <tr>\n",
       "      <th>4</th>\n",
       "      <td>1381.004268</td>\n",
       "      <td>51.093</td>\n",
       "    </tr>\n",
       "    <tr>\n",
       "      <th>6</th>\n",
       "      <td>10749.419238</td>\n",
       "      <td>75.901</td>\n",
       "    </tr>\n",
       "    <tr>\n",
       "      <th>7</th>\n",
       "      <td>1326.741757</td>\n",
       "      <td>74.241</td>\n",
       "    </tr>\n",
       "    <tr>\n",
       "      <th>...</th>\n",
       "      <td>...</td>\n",
       "      <td>...</td>\n",
       "    </tr>\n",
       "    <tr>\n",
       "      <th>207</th>\n",
       "      <td>5528.363114</td>\n",
       "      <td>74.402</td>\n",
       "    </tr>\n",
       "    <tr>\n",
       "      <th>208</th>\n",
       "      <td>722.807559</td>\n",
       "      <td>75.181</td>\n",
       "    </tr>\n",
       "    <tr>\n",
       "      <th>210</th>\n",
       "      <td>610.357367</td>\n",
       "      <td>65.493</td>\n",
       "    </tr>\n",
       "    <tr>\n",
       "      <th>211</th>\n",
       "      <td>432.226337</td>\n",
       "      <td>49.025</td>\n",
       "    </tr>\n",
       "    <tr>\n",
       "      <th>212</th>\n",
       "      <td>320.771890</td>\n",
       "      <td>51.384</td>\n",
       "    </tr>\n",
       "  </tbody>\n",
       "</table>\n",
       "<p>176 rows × 2 columns</p>\n",
       "</div>"
      ],
      "text/plain": [
       "     incomeperperson  lifeexpectancy\n",
       "1        1914.996551          76.918\n",
       "2        2231.993335          73.131\n",
       "4        1381.004268          51.093\n",
       "6       10749.419238          75.901\n",
       "7        1326.741757          74.241\n",
       "..               ...             ...\n",
       "207      5528.363114          74.402\n",
       "208       722.807559          75.181\n",
       "210       610.357367          65.493\n",
       "211       432.226337          49.025\n",
       "212       320.771890          51.384\n",
       "\n",
       "[176 rows x 2 columns]"
      ]
     },
     "execution_count": 3,
     "metadata": {},
     "output_type": "execute_result"
    }
   ],
   "source": [
    "# Select column of interest\n",
    "explanatory,response = \"incomeperperson\",\"lifeexpectancy\"\n",
    "sub = df[[explanatory,response]].apply(pd.to_numeric, errors='coerce') \\\n",
    "    .dropna()\n",
    "sub"
   ]
  },
  {
   "cell_type": "code",
   "execution_count": 4,
   "id": "suspected-right",
   "metadata": {},
   "outputs": [
    {
     "data": {
      "text/html": [
       "<style  type=\"text/css\" >\n",
       "</style><table id=\"T_bb6a55a8_b172_11ed_aedf_0c42a130bd8f\" ><thead>    <tr>        <th class=\"col_heading level0 col0\" >Pearson coefficient (r)</th>        <th class=\"col_heading level0 col1\" >p-value</th>        <th class=\"col_heading level0 col2\" >r2</th>    </tr></thead><tbody>\n",
       "                <tr>\n",
       "                                <td id=\"T_bb6a55a8_b172_11ed_aedf_0c42a130bd8frow0_col0\" class=\"data row0 col0\" >0.601516</td>\n",
       "                        <td id=\"T_bb6a55a8_b172_11ed_aedf_0c42a130bd8frow0_col1\" class=\"data row0 col1\" >1.07E-18</td>\n",
       "                        <td id=\"T_bb6a55a8_b172_11ed_aedf_0c42a130bd8frow0_col2\" class=\"data row0 col2\" >0.361822</td>\n",
       "            </tr>\n",
       "    </tbody></table>"
      ],
      "text/plain": [
       "<pandas.io.formats.style.Styler at 0x2aaadef0a780>"
      ]
     },
     "execution_count": 4,
     "metadata": {},
     "output_type": "execute_result"
    }
   ],
   "source": [
    "rval, pval = scipy.stats.pearsonr(sub[explanatory], sub[response])\n",
    "r2val = rval**2\n",
    "pd.DataFrame([{\"Pearson coefficient (r)\": rval, \"p-value\":'%.2E' % Decimal(pval), \"r2\": r2val}]).style.hide_index()"
   ]
  },
  {
   "cell_type": "code",
   "execution_count": 5,
   "id": "charged-metallic",
   "metadata": {},
   "outputs": [
    {
     "data": {
      "text/plain": [
       "Text(0.5, 1.0, 'Association between income and life expectancy')"
      ]
     },
     "execution_count": 5,
     "metadata": {},
     "output_type": "execute_result"
    },
    {
     "data": {
      "image/png": "[encoded data removed]",
      "text/plain": [
       "<Figure size 360x360 with 1 Axes>"
      ]
     },
     "metadata": {
      "needs_background": "light"
     },
     "output_type": "display_data"
    }
   ],
   "source": [
    "seaborn.lmplot(data=sub,\n",
    "             x=explanatory, \n",
    "             y=response, \n",
    "             fit_reg=True, \n",
    "             scatter_kws={\"s\": 5},\n",
    "            line_kws={'color': 'black'})\n",
    "plt.xlabel(\"Income per person\")\n",
    "plt.ylabel(\"Life expectancy\")\n",
    "plt.title(\"Association between income and life expectancy\")"
   ]
  },
  {
   "cell_type": "markdown",
   "id": "hairy-pollution",
   "metadata": {},
   "source": [
    "**Conclusion**: the data shows that income has positive correlation with life expectancy (Pearson r = 0.6). The r2 value of 0.37 signifies that the average income per person can predict 37% the variability we see in the life expectancy."
   ]
  },
  {
   "cell_type": "code",
   "execution_count": null,
   "id": "immune-thought",
   "metadata": {},
   "outputs": [],
   "source": []
  }
 ],
 "metadata": {
  "kernelspec": {
   "display_name": "Python 3",
   "language": "python",
   "name": "python3"
  },
  "language_info": {
   "codemirror_mode": {
    "name": "ipython",
    "version": 3
   },
   "file_extension": ".py",
   "mimetype": "text/x-python",
   "name": "python",
   "nbconvert_exporter": "python",
   "pygments_lexer": "ipython3",
   "version": "3.6.13"
  }
 },
 "nbformat": 4,
 "nbformat_minor": 5
}
