{
 "cells": [
  {
   "cell_type": "markdown",
   "id": "limiting-bidder",
   "metadata": {},
   "source": [
    "**The National Longitudinal Study of Adolescent Health (AddHealth)** is a representative school-based survey of adolescents in grades 7-12 in the United States. The Wave 1 survey focuses on factors that may influence adolescents’ health and risk behaviors, including personal traits, families, friendships, romantic relationships, peer groups, schools, neighborhoods, and communities\n",
    "\n",
    "**Population**: adolescents in grades 7-12 in the US as recorded in AddHealth data\n",
    "\n",
    "**Question**: Does the frequency of exercise relate to the trouble of falling asleep between regular vs non-regular smokers? (regular: smoke regularly for at least 1 cigarette every day for 30 days)\n",
    "\n",
    "\n",
    "**Variables**\n",
    "1. Explanatory variable: The frequency of exercise in the past week (column used: H1DA6). The categorical value is explained below. We will filter out value 6 (refused) and 8 (don't know).\n",
    "\n",
    "| Value      | Description |\n",
    "| -----------| -----------|\n",
    "| 0      | no exercise     |\n",
    "| 1   | 1 or 2 times       |\n",
    "| 2   | 3 or 4 times       |\n",
    "| 3   | 5 or more times    |\n",
    "| 6   | refused          |\n",
    "| 8   | don’t know        |\n",
    "\n",
    "2. Response variable: trouble falling asleep (column used: H1GH18).\n",
    "\n",
    "    The value in the column H1GH18 is 0 for \"never\" and 1-4 for \"at least once\". Therefore for this column, the values 1-4 will be converted to 1 to denote \"at least once\" for having trouble falling asleep. We also filter out value 6 (refused) and 8 (don't know) for this column.\n",
    "    \n",
    "3. Moderating variable: whether a person is a regular smoker (column used: H1TO3). We only use column of value 0 (no) or 1 (yes)."
   ]
  },
  {
   "cell_type": "code",
   "execution_count": null,
   "id": "blank-saying",
   "metadata": {},
   "outputs": [],
   "source": [
    "# Import modules\n",
    "import pandas as pd\n",
    "import scipy.stats\n",
    "import seaborn\n",
    "import matplotlib.pyplot as plt\n",
    "import itertools\n",
    "import statsmodels.stats.multitest as mt\n",
    "import warnings\n",
    "warnings.filterwarnings('ignore')"
   ]
  },
  {
   "cell_type": "code",
   "execution_count": null,
   "id": "black-vessel",
   "metadata": {},
   "outputs": [],
   "source": [
    "# read and subset the columns of innterest H1TO15 \n",
    "df = pd.read_csv(\"../addhealth.csv\", low_memory=False)[[\"H1DA6\", \"H1GH18\", \"H1TO3\"]] \\\n",
    "    .rename(columns={\"H1DA6\": \"exercise_freq\", \"H1GH18\": \"trouble_sleep\", \"H1TO3\": \"regular_smoker\"}) \\\n",
    "    .apply(pd.to_numeric, errors='coerce')\n",
    "df"
   ]
  },
  {
   "cell_type": "code",
   "execution_count": null,
   "id": "natural-portfolio",
   "metadata": {},
   "outputs": [],
   "source": [
    "# subset the rows: we only take values below 5 since 6 is \"refused\" and 8 is \"don't know\"\n",
    "df = df.loc[lambda r: (r[\"exercise_freq\"] < 5) & (r[\"trouble_sleep\"] < 5) & (r[\"regular_smoker\"] <= 1)] \\\n",
    "    .dropna() \\\n",
    "    .astype(int)\n",
    "\n",
    "# The values 1-4 are converted to 1 to denote \"at least once\" for having trouble falling asleep\n",
    "df.loc[df[\"trouble_sleep\"] >= 1, \"trouble_sleep\"] = 1\n",
    "df"
   ]
  },
  {
   "cell_type": "markdown",
   "id": "domestic-fossil",
   "metadata": {},
   "source": [
    "## Chi-square analyses taking into account moderation"
   ]
  },
  {
   "cell_type": "code",
   "execution_count": null,
   "id": "dental-election",
   "metadata": {},
   "outputs": [],
   "source": [
    "for i in [0,1]:\n",
    "    sub = df[df[\"regular_smoker\"] == i]\n",
    "    group = \"Non-regular smoker\" if i ==0 else \"Regular smoker\"\n",
    "    print(\"===== Chi-square analysis for %s =====\\n\" % group)\n",
    "\n",
    "    # contingency table of observed counts\n",
    "    ct = pd.crosstab(sub[\"trouble_sleep\"], sub['exercise_freq'])\n",
    "    print(\"----- Contingency table -----\")\n",
    "    print(ct)\n",
    "    print(\"\\n----- Column percentages -----\")\n",
    "    print(ct/ct.sum(axis=0))\n",
    "    \n",
    "    # Using histogram to plot the frequency shown above\n",
    "    seaborn.factorplot(x=\"exercise_freq\", y=\"trouble_sleep\", data=sub, kind=\"bar\", ci=None)\n",
    "    plt.ylim(bottom = 0.5)\n",
    "    plt.xlabel(\"Group of exercise frequency\")\n",
    "    plt.ylabel(\"Proportion of having trouble falling asleep\")\n",
    "    plt.title(\"Group: %s\" % group)\n",
    "    \n",
    "    # Chi-square analysis\n",
    "    print(\"\\n----- Chi-square analysis -----\")\n",
    "    chival, pval, expcount, expfreq = scipy.stats.chi2_contingency(ct)\n",
    "    # chi-square value, p value, expected counts\n",
    "    chidf = pd.DataFrame({\"chi-square value\": [chival], \"p-value\": [pval], \"expected count\": [expcount]})\n",
    "    print(chidf)\n",
    "    \n",
    "    print(\"\\n----- Perform multiple (post-hoc) testing -----\")\n",
    "    all_pairs = list(itertools.combinations(ct.columns, 2))\n",
    "    rows = []\n",
    "    for pair in all_pairs:\n",
    "        ct_sub = ct[[pair[0],pair[1]]]\n",
    "        # Index 1 is the p-value\n",
    "        cur_pval = scipy.stats.chi2_contingency(ct_sub, correction=True)[1]\n",
    "        rows.append({\"group_a\":pair[0], \"group_b\":pair[1], \"p-val\":cur_pval})\n",
    "    pair_df = pd.DataFrame(rows)\n",
    "    reject, padj = mt.multipletests(pair_df[\"p-val\"], method='bonferroni')[:2]\n",
    "    pair_df[\"p-adj\"], pair_df[\"reject\"] = padj,reject\n",
    "    print(pair_df.sort_values(\"p-adj\"))\n",
    "    \n",
    "    print(\"\\n================================================================================\\n\")"
   ]
  },
  {
   "cell_type": "markdown",
   "id": "corporate-wrestling",
   "metadata": {},
   "source": [
    "### Conclusion\n",
    "\n",
    "From the chi-square analyses above, we see the relationship between exercise frequency and trouble of falling asleep.\n",
    "The general observation is that, the group who doesn't exercise (surprisingly) has less trouble falling asleep. But the more a person exercise, the less likely for the person to have trouble falling asleep.\n",
    "\n",
    "However, the effect is different between regular vs non-regular smokers as shown from the chi-square analysis:\n",
    "1. Non-regular smoker: \n",
    "    - chi-square_value: 6.95\n",
    "    - p-value: 0.07\n",
    "2. Regular smoker:\n",
    "    - chi-square_value: 7.97\n",
    "    - p-value: 0.047\n",
    "    \n",
    "The analysis shows significant relation between exercise frequency and trouble of falling asleep in regular smoker ($p < 0.05$) but not in non-regular smoker ($p > 0.05$). "
   ]
  },
  {
   "cell_type": "code",
   "execution_count": null,
   "id": "beginning-window",
   "metadata": {},
   "outputs": [],
   "source": []
  }
 ],
 "metadata": {
  "kernelspec": {
   "display_name": "Python 3",
   "language": "python",
   "name": "python3"
  },
  "language_info": {
   "codemirror_mode": {
    "name": "ipython",
    "version": 3
   },
   "file_extension": ".py",
   "mimetype": "text/x-python",
   "name": "python",
   "nbconvert_exporter": "python",
   "pygments_lexer": "ipython3",
   "version": "3.6.13"
  }
 },
 "nbformat": 4,
 "nbformat_minor": 5
}
